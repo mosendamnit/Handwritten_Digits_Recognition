{
 "cells": [
  {
   "cell_type": "markdown",
   "metadata": {},
   "source": [
    "# Methetmetical Symbol Training & Recognition "
   ]
  },
  {
   "cell_type": "code",
   "execution_count": 6,
   "metadata": {},
   "outputs": [
    {
     "name": "stderr",
     "output_type": "stream",
     "text": [
      "2025-03-25 22:40:15.868170: I tensorflow/core/platform/cpu_feature_guard.cc:182] This TensorFlow binary is optimized to use available CPU instructions in performance-critical operations.\n",
      "To enable the following instructions: AVX2 FMA, in other operations, rebuild TensorFlow with the appropriate compiler flags.\n"
     ]
    }
   ],
   "source": [
    "# Imports\n",
    "\n",
    "import os\n",
    "import cv2\n",
    "import numpy as np\n",
    "import matplotlib.pyplot as plt\n",
    "import tensorflow as tf"
   ]
  },
  {
   "cell_type": "code",
   "execution_count": 7,
   "metadata": {},
   "outputs": [],
   "source": [
    "def load_data(folder_paths):\n",
    "    images = []\n",
    "    labels = []\n",
    "    for class_label, folder_path in enumerate(folder_paths):\n",
    "        for file_name in os.listdir(folder_path):\n",
    "            image_path = os.path.join(folder_path, file_name)\n",
    "            image = cv2.imread(image_path, cv2.IMREAD_GRAYSCALE)  # Load image in grayscale\n",
    "            image = cv2.resize(image, (28, 28))  # Ensure the image is 28x28 pixels\n",
    "            images.append(image)\n",
    "            labels.append(class_label)  # Assign class label\n",
    "    return np.array(images), np.array(labels)\n",
    "\n",
    "# Define paths to folders containing images for each symbol\n",
    "addition_folder =\"../Handwritten_Digits_Recognition/data_Symbol/addition\"\n",
    "subtraction_folder = \"../Handwritten_Digits_Recognition/data_Symbol/subtraction\"\n",
    "multiplication_folder = \"../Handwritten_Digits_Recognition/data_Symbol/multiplication\"\n",
    "division_folder = \"../Handwritten_Digits_Recognition/data_Symbol/division\"\n",
    "\n",
    "# Load data from all folders\n",
    "train_data, train_labels = load_data([addition_folder, subtraction_folder, multiplication_folder, division_folder])"
   ]
  },
  {
   "cell_type": "code",
   "execution_count": 9,
   "metadata": {},
   "outputs": [],
   "source": [
    "# Normalize pixel values to [0, 1]\n",
    "train_data = train_data.astype('float32') / 255.0"
   ]
  },
  {
   "cell_type": "code",
   "execution_count": 10,
   "metadata": {},
   "outputs": [],
   "source": [
    "# Add channel dimension (shape becomes (num_samples, 28, 28, 1))\n",
    "train_data = np.expand_dims(train_data, axis=-1) "
   ]
  },
  {
   "cell_type": "code",
   "execution_count": 12,
   "metadata": {},
   "outputs": [
    {
     "name": "stdout",
     "output_type": "stream",
     "text": [
      "(87880, 28, 28, 1)\n"
     ]
    }
   ],
   "source": [
    "print (train_data.shape)"
   ]
  },
  {
   "cell_type": "code",
   "execution_count": 15,
   "metadata": {},
   "outputs": [],
   "source": [
    "from sklearn.model_selection import train_test_split\n",
    "\n",
    "# Split the data into training and testing sets\n",
    "x_train, x_test, y_train, y_test = train_test_split(train_data, train_labels, test_size=0.2, random_state=42)"
   ]
  },
  {
   "cell_type": "code",
   "execution_count": 17,
   "metadata": {},
   "outputs": [],
   "source": [
    "from tensorflow.keras.models import Sequential\n",
    "from tensorflow.keras.layers import Conv2D, MaxPooling2D, Flatten, Dense\n",
    "\n",
    "# Define the model architecture\n",
    "model = Sequential([\n",
    "    Conv2D(32, (3, 3), activation='relu', input_shape=(28, 28, 1)),  # Adjust input shape for grayscale images\n",
    "    MaxPooling2D((2, 2)),\n",
    "    Flatten(),\n",
    "    Dense(128, activation='relu'),\n",
    "    Dense(4, activation='softmax')  # Only 4 output classes for the symbols\n",
    "])"
   ]
  },
  {
   "cell_type": "code",
   "execution_count": 18,
   "metadata": {},
   "outputs": [],
   "source": [
    "# Compile the model\n",
    "model.compile(optimizer='adam', loss='sparse_categorical_crossentropy', metrics=['accuracy'])"
   ]
  },
  {
   "cell_type": "code",
   "execution_count": 20,
   "metadata": {},
   "outputs": [
    {
     "name": "stdout",
     "output_type": "stream",
     "text": [
      "Epoch 1/10\n",
      "2197/2197 [==============================] - 26s 11ms/step - loss: 0.3430 - accuracy: 0.2127 - val_loss: 0.2377 - val_accuracy: 0.2264\n",
      "Epoch 2/10\n",
      "2197/2197 [==============================] - 24s 11ms/step - loss: 0.1982 - accuracy: 0.2348 - val_loss: 0.1881 - val_accuracy: 0.2107\n",
      "Epoch 3/10\n",
      "2197/2197 [==============================] - 24s 11ms/step - loss: 0.1679 - accuracy: 0.2369 - val_loss: 0.1644 - val_accuracy: 0.2352\n",
      "Epoch 4/10\n",
      "2197/2197 [==============================] - 23s 11ms/step - loss: 0.1456 - accuracy: 0.2392 - val_loss: 0.1592 - val_accuracy: 0.2460\n",
      "Epoch 5/10\n",
      "2197/2197 [==============================] - 25s 11ms/step - loss: 0.1269 - accuracy: 0.2410 - val_loss: 0.1399 - val_accuracy: 0.2249\n",
      "Epoch 6/10\n",
      "2197/2197 [==============================] - 25s 12ms/step - loss: 0.1121 - accuracy: 0.2428 - val_loss: 0.1074 - val_accuracy: 0.2363\n",
      "Epoch 7/10\n",
      "2197/2197 [==============================] - 24s 11ms/step - loss: 0.0999 - accuracy: 0.2441 - val_loss: 0.1327 - val_accuracy: 0.2582\n",
      "Epoch 8/10\n",
      "2197/2197 [==============================] - 24s 11ms/step - loss: 0.0907 - accuracy: 0.2452 - val_loss: 0.0929 - val_accuracy: 0.2366\n",
      "Epoch 9/10\n",
      "2197/2197 [==============================] - 27s 12ms/step - loss: 0.0804 - accuracy: 0.2462 - val_loss: 0.0902 - val_accuracy: 0.2464\n",
      "Epoch 10/10\n",
      "2197/2197 [==============================] - 24s 11ms/step - loss: 0.0753 - accuracy: 0.2473 - val_loss: 0.0815 - val_accuracy: 0.2468\n"
     ]
    },
    {
     "data": {
      "text/plain": [
       "<keras.src.callbacks.History at 0x1452519d0>"
      ]
     },
     "execution_count": 20,
     "metadata": {},
     "output_type": "execute_result"
    }
   ],
   "source": [
    "# Train the model\n",
    "\n",
    "model.fit(x_train, y_train, epochs=10, validation_data=(x_test, y_test)) \n"
   ]
  },
  {
   "cell_type": "code",
   "execution_count": 21,
   "metadata": {},
   "outputs": [],
   "source": [
    "# Assuming symbol_model is your trained model\n",
    "model.save('symbol_model.h5')  # Save as .h5 file"
   ]
  },
  {
   "cell_type": "code",
   "execution_count": 28,
   "metadata": {},
   "outputs": [
    {
     "name": "stdout",
     "output_type": "stream",
     "text": [
      "2197/2197 [==============================] - 7s 3ms/step - loss: 0.0668 - accuracy: 0.2513\n",
      "Loss: 0.06676582992076874, Accuracy: 0.2513085901737213\n"
     ]
    }
   ],
   "source": [
    "# Evaluate the model\n",
    "loss, accuracy = model.evaluate(x_train, y_train)\n",
    "print(f\"Loss: {loss}, Accuracy: {accuracy}\")"
   ]
  },
  {
   "cell_type": "code",
   "execution_count": 24,
   "metadata": {},
   "outputs": [],
   "source": [
    "# Define a mapping from the class index to the corresponding symbol\n",
    "class_names = ['+', '-', '*', '/']"
   ]
  },
  {
   "cell_type": "code",
   "execution_count": 25,
   "metadata": {},
   "outputs": [],
   "source": [
    "# Function to load and preprocess a single image\n",
    "def load_and_preprocess_image(image_path):\n",
    "    # Load the input image as a grayscale image\n",
    "    img_gray = cv2.imread(image_path, cv2.IMREAD_GRAYSCALE)\n",
    "\n",
    "    # Check if the image is loaded successfully\n",
    "    if img_gray is None:\n",
    "        print(f\"Error: Failed to load the input image at {image_path}\")\n",
    "        return None\n",
    "\n",
    "    # Resize the image to 28x28 pixels\n",
    "    img_resized = cv2.resize(img_gray, (28, 28))\n",
    "\n",
    "    # Normalize pixel values to [0, 1]\n",
    "    img_normalized = img_resized.astype('float32') / 255.0\n",
    "\n",
    "    # Add channel dimension (needed by the model)\n",
    "    img_normalized = np.expand_dims(img_normalized, axis=-1)\n",
    "\n",
    "    # Add batch dimension\n",
    "    img_batch = np.expand_dims(img_normalized, axis=0)\n",
    "\n",
    "    return img_batch\n"
   ]
  },
  {
   "cell_type": "code",
   "execution_count": 26,
   "metadata": {},
   "outputs": [],
   "source": [
    "# Function to predict the symbol from an image\n",
    "def predict_image(image_path, model):\n",
    "    img_batch = load_and_preprocess_image(image_path)\n",
    "\n",
    "    if img_batch is None:\n",
    "        return None, None\n",
    "    \n",
    "    # Make prediction\n",
    "    prediction = model.predict(img_batch)\n",
    "    predicted_class = np.argmax(prediction)\n",
    "\n",
    "    return predicted_class, prediction\n"
   ]
  },
  {
   "cell_type": "code",
   "execution_count": 27,
   "metadata": {},
   "outputs": [
    {
     "name": "stdout",
     "output_type": "stream",
     "text": [
      "Error: Failed to load the input image at ./MS Paint _ Microsoft Paint Online (1).png\n"
     ]
    },
    {
     "name": "stderr",
     "output_type": "stream",
     "text": [
      "[ WARN:0@1414.176] global loadsave.cpp:268 findDecoder imread_('./MS Paint _ Microsoft Paint Online (1).png'): can't open/read file: check file path/integrity\n"
     ]
    }
   ],
   "source": [
    "image_path = \"./MS Paint _ Microsoft Paint Online (1).png\" \n",
    "predicted_class, prediction = predict_image(image_path, model)\n"
   ]
  },
  {
   "cell_type": "code",
   "execution_count": 144,
   "metadata": {},
   "outputs": [
    {
     "name": "stdout",
     "output_type": "stream",
     "text": [
      "Prediction Result: [[8.6865741e-09 7.6238232e-20 1.0000000e+00 8.7961764e-21]]\n",
      "Predicted Class Index: 2\n",
      "Predicted Symbol: *\n"
     ]
    },
    {
     "data": {
      "image/png": "[encoded data removed]",
      "text/plain": [
       "<Figure size 640x480 with 1 Axes>"
      ]
     },
     "metadata": {},
     "output_type": "display_data"
    }
   ],
   "source": [
    "if predicted_class is not None:\n",
    "    print(\"Prediction Result:\", prediction)\n",
    "    print(\"Predicted Class Index:\", predicted_class)\n",
    "    print(\"Predicted Symbol:\", class_names[predicted_class])\n",
    "\n",
    "    # Display the image and predicted class\n",
    "    img = cv2.imread(image_path, cv2.IMREAD_GRAYSCALE)\n",
    "    plt.imshow(img, cmap=plt.cm.binary)\n",
    "    plt.title(f\"Predicted Class: {class_names[predicted_class]}\")\n",
    "    plt.show()\n",
    "else:\n",
    "    print(\"Failed to predict the image.\")\n"
   ]
  },
  {
   "cell_type": "code",
   "execution_count": null,
   "metadata": {},
   "outputs": [],
   "source": []
  }
 ],
 "metadata": {
  "kernelspec": {
   "display_name": "env",
   "language": "python",
   "name": "python3"
  },
  "language_info": {
   "codemirror_mode": {
    "name": "ipython",
    "version": 3
   },
   "file_extension": ".py",
   "mimetype": "text/x-python",
   "name": "python",
   "nbconvert_exporter": "python",
   "pygments_lexer": "ipython3",
   "version": "3.11.7"
  }
 },
 "nbformat": 4,
 "nbformat_minor": 2
}
