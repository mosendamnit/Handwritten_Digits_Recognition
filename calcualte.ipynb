{
 "cells": [
  {
   "cell_type": "code",
   "execution_count": 15,
   "metadata": {},
   "outputs": [
    {
     "name": "stderr",
     "output_type": "stream",
     "text": [
      "WARNING:absl:Compiled the loaded model, but the compiled metrics have yet to be built. `model.compile_metrics` will be empty until you train or evaluate the model.\n",
      "WARNING:absl:Compiled the loaded model, but the compiled metrics have yet to be built. `model.compile_metrics` will be empty until you train or evaluate the model.\n"
     ]
    },
    {
     "name": "stdout",
     "output_type": "stream",
     "text": [
      "\u001b[1m1/1\u001b[0m \u001b[32m━━━━━━━━━━━━━━━━━━━━\u001b[0m\u001b[37m\u001b[0m \u001b[1m0s\u001b[0m 113ms/step\n",
      "\u001b[1m1/1\u001b[0m \u001b[32m━━━━━━━━━━━━━━━━━━━━\u001b[0m\u001b[37m\u001b[0m \u001b[1m0s\u001b[0m 70ms/step\n",
      "\u001b[1m1/1\u001b[0m \u001b[32m━━━━━━━━━━━━━━━━━━━━\u001b[0m\u001b[37m\u001b[0m \u001b[1m0s\u001b[0m 26ms/step\n",
      "4 * 7 = 28\n"
     ]
    }
   ],
   "source": [
    "import os\n",
    "import cv2\n",
    "import numpy as np\n",
    "import matplotlib.pyplot as plt\n",
    "import tensorflow as tf\n",
    "\n",
    "# Load digit recognition model\n",
    "digit_model = tf.keras.models.load_model('./digit_model.h5')  # or 'digit_model.keras'\n",
    "\n",
    "# Load symbol recognition model\n",
    "symbol_model = tf.keras.models.load_model('./symbol_model.h5')  # or 'symbol_model.keras'\n",
    "\n",
    "\n",
    "# Function to preprocess digit images\n",
    "def preprocess_digit_image(image_path):\n",
    "    img = cv2.imread(image_path, cv2.IMREAD_GRAYSCALE)\n",
    "    img = cv2.resize(img, (28, 28))\n",
    "    img = img.astype('float32') / 255.0\n",
    "    img = np.expand_dims(img, axis=-1)  # Add channel dimension\n",
    "    img = np.expand_dims(img, axis=0)   # Add batch dimension\n",
    "    return img\n",
    "\n",
    "# Function to preprocess symbol images\n",
    "def preprocess_symbol_image(image_path):\n",
    "    img = cv2.imread(image_path, cv2.IMREAD_GRAYSCALE)\n",
    "    img = cv2.resize(img, (28, 28))\n",
    "    img = img.astype('float32') / 255.0\n",
    "    img = np.expand_dims(img, axis=-1)  # Add channel dimension\n",
    "    img = np.expand_dims(img, axis=0)   # Add batch dimension\n",
    "    return img\n",
    "\n",
    "# Function to predict digit\n",
    "def predict_digit(image_path):\n",
    "    img = preprocess_digit_image(image_path)\n",
    "    prediction = digit_model.predict(img)\n",
    "    predicted_class = np.argmax(prediction)\n",
    "    return predicted_class\n",
    "\n",
    "# Function to predict symbol\n",
    "def predict_symbol(image_path):\n",
    "    img = preprocess_symbol_image(image_path)\n",
    "    prediction = symbol_model.predict(img)\n",
    "    predicted_class = np.argmax(prediction)\n",
    "    symbols = ['+', '-', '*', '/']\n",
    "    return symbols[predicted_class]\n",
    "\n",
    "# Function to perform calculation\n",
    "def perform_calculation(digit1, symbol, digit2):\n",
    "    if symbol == '+':\n",
    "        return digit1 + digit2\n",
    "    elif symbol == '-':\n",
    "        return digit1 - digit2\n",
    "    elif symbol == '*':\n",
    "        return digit1 * digit2\n",
    "    elif symbol == '/':\n",
    "        return digit1 / digit2\n",
    "    else:\n",
    "        raise ValueError(f\"Unknown symbol: {symbol}\")\n",
    "\n",
    "# Example usage\n",
    "digit1_path = './MS Paint _ Microsoft Paint Online (4).png'\n",
    "symbol_path = './MS Paint _ Microsoft Paint Online (1).png'\n",
    "digit2_path = './MS Paint _ Microsoft Paint Online (6).png'\n",
    "\n",
    "# Predict digits and symbol\n",
    "digit1 = predict_digit(digit1_path)\n",
    "symbol = predict_symbol(symbol_path)\n",
    "digit2 = predict_digit(digit2_path)\n",
    "\n",
    "# Perform calculation\n",
    "result = perform_calculation(digit1, symbol, digit2)\n",
    "\n",
    "# Display the result\n",
    "print(f\"{digit1} {symbol} {digit2} = {result}\")\n"
   ]
  }
 ],
 "metadata": {
  "kernelspec": {
   "display_name": "Python 3",
   "language": "python",
   "name": "python3"
  },
  "language_info": {
   "codemirror_mode": {
    "name": "ipython",
    "version": 3
   },
   "file_extension": ".py",
   "mimetype": "text/x-python",
   "name": "python",
   "nbconvert_exporter": "python",
   "pygments_lexer": "ipython3",
   "version": "3.11.7"
  }
 },
 "nbformat": 4,
 "nbformat_minor": 2
}
